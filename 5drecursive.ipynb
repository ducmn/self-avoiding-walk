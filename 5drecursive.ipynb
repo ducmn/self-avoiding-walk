{
 "cells": [
  {
   "cell_type": "code",
   "execution_count": null,
   "metadata": {},
   "outputs": [
    {
     "name": "stdout",
     "output_type": "stream",
     "text": [
      "1:4\n",
      "2:12\n",
      "3:36\n",
      "4:100\n",
      "5:284\n",
      "6:780\n",
      "7:2172\n",
      "8:5916\n",
      "9:16268\n",
      "10:44100\n",
      "11:120292\n",
      "12:324932\n",
      "13:881500\n",
      "14:2374444\n",
      "15:6416596\n",
      "16:17245332\n",
      "17:46466676\n",
      "18:124658732\n",
      "19:335116620\n",
      "20:897697164\n"
     ]
    }
   ],
   "source": [
    "import timeit\n",
    "start = timeit.default_timer()\n",
    "\n",
    "def recursiveSAW(x,y,s):\n",
    "    global iti,grid\n",
    "    if s==n:\n",
    "        iti+=1\n",
    "    else:\n",
    "        grid[x][y]=True\n",
    "        if not grid[x][y+1]:\n",
    "            recursiveSAW(x,y+1,s+1)\n",
    "        if not grid[x+1][y]:\n",
    "            recursiveSAW(x+1,y,s+1)\n",
    "        if not grid[x][y-1]:\n",
    "            recursiveSAW(x,y-1,s+1)\n",
    "        if not grid[x-1][y]:\n",
    "            recursiveSAW(x-1,y,s+1)\n",
    "        grid[x][y]=False\n",
    "\n",
    "for n in range(1,101):\n",
    "    grid=[[False for i in range(2*n+1)] for j in range(2*n+1)]\n",
    "    iti=0\n",
    "    recursiveSAW(n,n,0)\n",
    "    print(f'{n}:{iti}')\n",
    "exit(0)\n",
    "\n",
    "stop = timeit.default_timer()\n",
    "\n",
    "print('Time: ', stop - start) "
   ]
  },
  {
   "cell_type": "code",
   "execution_count": null,
   "metadata": {},
   "outputs": [],
   "source": []
  }
 ],
 "metadata": {
  "kernelspec": {
   "display_name": "Python 3",
   "language": "python",
   "name": "python3"
  },
  "language_info": {
   "codemirror_mode": {
    "name": "ipython",
    "version": 3
   },
   "file_extension": ".py",
   "mimetype": "text/x-python",
   "name": "python",
   "nbconvert_exporter": "python",
   "pygments_lexer": "ipython3",
   "version": "3.7.4"
  }
 },
 "nbformat": 4,
 "nbformat_minor": 2
}
