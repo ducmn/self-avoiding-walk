{
 "cells": [
  {
   "cell_type": "code",
   "execution_count": 5,
   "metadata": {},
   "outputs": [
    {
     "name": "stdout",
     "output_type": "stream",
     "text": [
      "Number of ways to walk 1 step(s): 4\n",
      "Number of ways to walk 2 step(s): 12\n",
      "Number of ways to walk 3 step(s): 36\n",
      "Number of ways to walk 4 step(s): 100\n",
      "Number of ways to walk 5 step(s): 284\n",
      "Number of ways to walk 6 step(s): 780\n",
      "Number of ways to walk 7 step(s): 2172\n",
      "Number of ways to walk 8 step(s): 5916\n",
      "Number of ways to walk 9 step(s): 16268\n",
      "Number of ways to walk 10 step(s): 44100\n",
      "Number of ways to walk 11 step(s): 120292\n",
      "Number of ways to walk 12 step(s): 324932\n",
      "Number of ways to walk 13 step(s): 881500\n",
      "Number of ways to walk 14 step(s): 2374444\n"
     ]
    }
   ],
   "source": [
    "def recursiveSAW(x,y,s):\n",
    "    global iti,grid\n",
    "    if s == n:\n",
    "        iti += 1\n",
    "    else:\n",
    "        grid[x][y]=True\n",
    "        if not grid[x][y+1]:\n",
    "            recursiveSAW(x, y+1, s+1)\n",
    "        if not grid[x+1][y]:\n",
    "            recursiveSAW(x+1, y, s+1)\n",
    "        if not grid[x][y-1]:\n",
    "            recursiveSAW(x, y-1, s+1)\n",
    "        if not grid[x-1][y]:\n",
    "            recursiveSAW(x-1, y, s+1)\n",
    "        grid[x][y] = False\n",
    "\n",
    "for n in range(1,15):\n",
    "    grid=[[False for i in range(2 * n + 1)] for j in range(2 * n + 1)]\n",
    "    iti = 0\n",
    "    recursiveSAW(n, n, 0)\n",
    "    print(f'Number of ways to walk {n} step(s): {iti}')"
   ]
  }
 ],
 "metadata": {
  "kernelspec": {
   "display_name": "Python 3.8.13 ('base')",
   "language": "python",
   "name": "python3"
  },
  "language_info": {
   "codemirror_mode": {
    "name": "ipython",
    "version": 3
   },
   "file_extension": ".py",
   "mimetype": "text/x-python",
   "name": "python",
   "nbconvert_exporter": "python",
   "pygments_lexer": "ipython3",
   "version": "3.8.13"
  },
  "vscode": {
   "interpreter": {
    "hash": "960f2ae499b536958d588fcafb5f9e40dd995fc898e4b79db932caf22756042a"
   }
  }
 },
 "nbformat": 4,
 "nbformat_minor": 4
}
